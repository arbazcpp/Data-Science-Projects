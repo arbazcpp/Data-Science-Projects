{
 "cells": [
  {
   "cell_type": "markdown",
   "id": "14929152-ee0a-44f3-9f17-4fa2a70c9b30",
   "metadata": {},
   "source": [
    "# DSC 630 Final: Aviation Delays\n",
    "## Arbaz Khan"
   ]
  },
  {
   "cell_type": "markdown",
   "id": "f2d4f307-aac9-4c44-9592-1bf607443151",
   "metadata": {},
   "source": [
    "### 1: Data Prep"
   ]
  },
  {
   "cell_type": "code",
   "execution_count": 2,
   "id": "41dc6ac7-a2f1-4b4b-bb7e-b5ef90245784",
   "metadata": {},
   "outputs": [
    {
     "data": {
      "text/html": [
       "<div>\n",
       "<style scoped>\n",
       "    .dataframe tbody tr th:only-of-type {\n",
       "        vertical-align: middle;\n",
       "    }\n",
       "\n",
       "    .dataframe tbody tr th {\n",
       "        vertical-align: top;\n",
       "    }\n",
       "\n",
       "    .dataframe thead th {\n",
       "        text-align: right;\n",
       "    }\n",
       "</style>\n",
       "<table border=\"1\" class=\"dataframe\">\n",
       "  <thead>\n",
       "    <tr style=\"text-align: right;\">\n",
       "      <th></th>\n",
       "      <th>year</th>\n",
       "      <th>month</th>\n",
       "      <th>carrier</th>\n",
       "      <th>carrier_name</th>\n",
       "      <th>airport</th>\n",
       "      <th>airport_name</th>\n",
       "      <th>arr_delay</th>\n",
       "      <th>carrier_delay</th>\n",
       "      <th>weather_delay</th>\n",
       "      <th>nas_delay</th>\n",
       "      <th>security_delay</th>\n",
       "      <th>late_aircraft_delay</th>\n",
       "    </tr>\n",
       "  </thead>\n",
       "  <tbody>\n",
       "    <tr>\n",
       "      <th>0</th>\n",
       "      <td>2023</td>\n",
       "      <td>8</td>\n",
       "      <td>9E</td>\n",
       "      <td>Endeavor Air Inc.</td>\n",
       "      <td>ABE</td>\n",
       "      <td>Allentown/Bethlehem/Easton, PA: Lehigh Valley ...</td>\n",
       "      <td>1375.0</td>\n",
       "      <td>71.0</td>\n",
       "      <td>761.0</td>\n",
       "      <td>118.0</td>\n",
       "      <td>0.0</td>\n",
       "      <td>425.0</td>\n",
       "    </tr>\n",
       "    <tr>\n",
       "      <th>1</th>\n",
       "      <td>2023</td>\n",
       "      <td>8</td>\n",
       "      <td>9E</td>\n",
       "      <td>Endeavor Air Inc.</td>\n",
       "      <td>ABY</td>\n",
       "      <td>Albany, GA: Southwest Georgia Regional</td>\n",
       "      <td>799.0</td>\n",
       "      <td>218.0</td>\n",
       "      <td>1.0</td>\n",
       "      <td>62.0</td>\n",
       "      <td>0.0</td>\n",
       "      <td>518.0</td>\n",
       "    </tr>\n",
       "    <tr>\n",
       "      <th>2</th>\n",
       "      <td>2023</td>\n",
       "      <td>8</td>\n",
       "      <td>9E</td>\n",
       "      <td>Endeavor Air Inc.</td>\n",
       "      <td>AEX</td>\n",
       "      <td>Alexandria, LA: Alexandria International</td>\n",
       "      <td>766.0</td>\n",
       "      <td>56.0</td>\n",
       "      <td>188.0</td>\n",
       "      <td>78.0</td>\n",
       "      <td>0.0</td>\n",
       "      <td>444.0</td>\n",
       "    </tr>\n",
       "    <tr>\n",
       "      <th>3</th>\n",
       "      <td>2023</td>\n",
       "      <td>8</td>\n",
       "      <td>9E</td>\n",
       "      <td>Endeavor Air Inc.</td>\n",
       "      <td>AGS</td>\n",
       "      <td>Augusta, GA: Augusta Regional at Bush Field</td>\n",
       "      <td>1397.0</td>\n",
       "      <td>471.0</td>\n",
       "      <td>320.0</td>\n",
       "      <td>388.0</td>\n",
       "      <td>0.0</td>\n",
       "      <td>218.0</td>\n",
       "    </tr>\n",
       "    <tr>\n",
       "      <th>4</th>\n",
       "      <td>2023</td>\n",
       "      <td>8</td>\n",
       "      <td>9E</td>\n",
       "      <td>Endeavor Air Inc.</td>\n",
       "      <td>ALB</td>\n",
       "      <td>Albany, NY: Albany International</td>\n",
       "      <td>1530.0</td>\n",
       "      <td>628.0</td>\n",
       "      <td>0.0</td>\n",
       "      <td>134.0</td>\n",
       "      <td>0.0</td>\n",
       "      <td>768.0</td>\n",
       "    </tr>\n",
       "  </tbody>\n",
       "</table>\n",
       "</div>"
      ],
      "text/plain": [
       "   year  month carrier       carrier_name airport  \\\n",
       "0  2023      8      9E  Endeavor Air Inc.     ABE   \n",
       "1  2023      8      9E  Endeavor Air Inc.     ABY   \n",
       "2  2023      8      9E  Endeavor Air Inc.     AEX   \n",
       "3  2023      8      9E  Endeavor Air Inc.     AGS   \n",
       "4  2023      8      9E  Endeavor Air Inc.     ALB   \n",
       "\n",
       "                                        airport_name  arr_delay  \\\n",
       "0  Allentown/Bethlehem/Easton, PA: Lehigh Valley ...     1375.0   \n",
       "1             Albany, GA: Southwest Georgia Regional      799.0   \n",
       "2           Alexandria, LA: Alexandria International      766.0   \n",
       "3        Augusta, GA: Augusta Regional at Bush Field     1397.0   \n",
       "4                   Albany, NY: Albany International     1530.0   \n",
       "\n",
       "   carrier_delay  weather_delay  nas_delay  security_delay  \\\n",
       "0           71.0          761.0      118.0             0.0   \n",
       "1          218.0            1.0       62.0             0.0   \n",
       "2           56.0          188.0       78.0             0.0   \n",
       "3          471.0          320.0      388.0             0.0   \n",
       "4          628.0            0.0      134.0             0.0   \n",
       "\n",
       "   late_aircraft_delay  \n",
       "0                425.0  \n",
       "1                518.0  \n",
       "2                444.0  \n",
       "3                218.0  \n",
       "4                768.0  "
      ]
     },
     "execution_count": 2,
     "metadata": {},
     "output_type": "execute_result"
    }
   ],
   "source": [
    "import pandas as pd\n",
    "import numpy as np\n",
    "import matplotlib.pyplot as plt\n",
    "import warnings\n",
    "\n",
    "warnings.simplefilter(action='ignore')\n",
    "warnings.simplefilter(action='ignore', category=FutureWarning)\n",
    "\n",
    "# This datset includes data about all flights from past 10 years that \n",
    "# involved a delay of some sort. Includes data about total delay as well \n",
    "# as location and which factors influenced each delay\n",
    "df = pd.read_csv(\"delay.csv\", encoding_errors='ignore', low_memory=False)\n",
    "\n",
    "df['carrier_name'].value_counts()\n",
    "\n",
    "# Dropping the airline with <1000 flights and flights during height \n",
    "# of covid\n",
    "df = df[df.carrier_name != \"AirTran\"]\n",
    "df = df[df.year != \"2022\"]\n",
    "df = df[df.year != \"2023\"]\n",
    "\n",
    "# Drop redundant columns\n",
    "df.drop(columns=['arr_flights', 'arr_cancelled', 'arr_diverted', 'arr_del15',\n",
    "                      'carrier_ct', 'weather_ct', 'nas_ct', 'security_ct', 'late_aircraft_ct'], inplace=True)\n",
    "        \n",
    "df.head(5)"
   ]
  },
  {
   "cell_type": "code",
   "execution_count": 3,
   "id": "ede42a82-b112-4d28-81e4-7e3be1332017",
   "metadata": {},
   "outputs": [],
   "source": [
    "# Here, we have to convert non-numeric values to numeric values. to_numeric will convert\n",
    "# non-numeric values to NA, utilizing 'coerce' errors, and dropna() will remove these NA values\n",
    "# altogether.\n",
    "df[\"arr_delay\"] = pd.to_numeric(df[\"arr_delay\"], errors=\"coerce\")\n",
    "df['arr_delay'].dropna(inplace=True)\n",
    "\n",
    "df['arr_delay']\n",
    "\n",
    "arrDelay = df['arr_delay']"
   ]
  },
  {
   "cell_type": "markdown",
   "id": "4d9681a3-c87d-4fb7-b7b0-49d22f29bfb1",
   "metadata": {},
   "source": [
    "In addition to narrowing our target values, which is of the column 'arr_delay' (the total delay time overall for one row, which represents one flight), we must get dummy variables for the remaining columns that contain non-numerical values to get numerical values for the entirety of our data, so that we can use a random forest classifier. So, we use pd.get_dummies to get dummy variables for these categorical values."
   ]
  },
  {
   "cell_type": "code",
   "execution_count": 4,
   "id": "554d2115-0f69-42db-8cb6-39214cff8535",
   "metadata": {},
   "outputs": [],
   "source": [
    "col = df.columns[df.dtypes=='object']\n",
    "\n",
    "# Use get_dummies to get numerical variables from categorical columns\n",
    "df = pd.get_dummies(df, columns = col) "
   ]
  },
  {
   "cell_type": "markdown",
   "id": "3c06b702-6cdb-4cf9-bdff-a1e9a2028f82",
   "metadata": {},
   "source": [
    "### 2: Building and evaluating model"
   ]
  },
  {
   "cell_type": "code",
   "execution_count": 5,
   "id": "3942ae23-05aa-4b0b-bad3-1ec362b22cb4",
   "metadata": {},
   "outputs": [],
   "source": [
    "import sklearn.model_selection\n",
    "from sklearn.model_selection import train_test_split\n",
    "from sklearn.tree import DecisionTreeClassifier\n",
    "from sklearn import metrics\n",
    "from sklearn import preprocessing\n",
    "from sklearn import utils\n",
    "\n",
    "y = df['arr_delay']\n",
    "x = df.drop(['arr_delay'], axis=1)\n",
    "\n",
    "# Must transform 'y' because values are 1-dimensional\n",
    "lab_enc = preprocessing.LabelEncoder()\n",
    "y = lab_enc.fit_transform(y)\n",
    "\n",
    "x_train, x_test, y_train, y_test = train_test_split(x, y, test_size=0.98)"
   ]
  },
  {
   "cell_type": "code",
   "execution_count": 6,
   "id": "96d6c92b-662a-40c5-898e-d8ab6b446ff5",
   "metadata": {},
   "outputs": [
    {
     "data": {
      "text/plain": [
       "0.04070545017921573"
      ]
     },
     "execution_count": 6,
     "metadata": {},
     "output_type": "execute_result"
    }
   ],
   "source": [
    "from sklearn.ensemble import RandomForestClassifier\n",
    "from sklearn import metrics\n",
    "\n",
    "# Use a random forest tree classifier\n",
    "rf = RandomForestClassifier(n_estimators = 20)\n",
    "\n",
    "rf = rf.fit(x_train, y_train)\n",
    "\n",
    "y_pred = rf.predict(x_test)\n",
    "\n",
    "# Accuracy of our model\n",
    "metrics.accuracy_score(y_test, y_pred)"
   ]
  },
  {
   "cell_type": "markdown",
   "id": "95e3e36a-7ebc-434f-b39e-0b09939100c7",
   "metadata": {},
   "source": [
    "From our analysis of the model, we can see that we have achieved an accuracy of ~40%. For this model, the specifications of my computer did not allow me to increase the number of estimators past 5, which was a hurdle I did not anticipate when formulating my plan. As a result, this model has extremely low accuracy, and is not particularly reliable for drawing conclusions."
   ]
  },
  {
   "cell_type": "markdown",
   "id": "c5d5cafa-e4ed-48ed-8ddd-92261c6a3dbe",
   "metadata": {},
   "source": [
    "### Conclusion"
   ]
  },
  {
   "cell_type": "markdown",
   "id": "68599b70-700b-4f6d-8126-33578a939f85",
   "metadata": {},
   "source": [
    "Our random forest model has given us some level of insight into the factors that cause delays. From this model, we can see that highest level of arr_delay (the total delay of time for a single flight) is affected most notably by "
   ]
  },
  {
   "cell_type": "code",
   "execution_count": 7,
   "id": "9506f01b-e68d-441c-9a71-fa45fd718e31",
   "metadata": {},
   "outputs": [
    {
     "data": {
      "text/html": [
       "<div>\n",
       "<style scoped>\n",
       "    .dataframe tbody tr th:only-of-type {\n",
       "        vertical-align: middle;\n",
       "    }\n",
       "\n",
       "    .dataframe tbody tr th {\n",
       "        vertical-align: top;\n",
       "    }\n",
       "\n",
       "    .dataframe thead th {\n",
       "        text-align: right;\n",
       "    }\n",
       "</style>\n",
       "<table border=\"1\" class=\"dataframe\">\n",
       "  <thead>\n",
       "    <tr style=\"text-align: right;\">\n",
       "      <th></th>\n",
       "      <th>col_name</th>\n",
       "    </tr>\n",
       "  </thead>\n",
       "  <tbody>\n",
       "    <tr>\n",
       "      <th>carrier_delay</th>\n",
       "      <td>0.083809</td>\n",
       "    </tr>\n",
       "    <tr>\n",
       "      <th>nas_delay</th>\n",
       "      <td>0.075658</td>\n",
       "    </tr>\n",
       "    <tr>\n",
       "      <th>late_aircraft_delay</th>\n",
       "      <td>0.072792</td>\n",
       "    </tr>\n",
       "    <tr>\n",
       "      <th>month</th>\n",
       "      <td>0.063806</td>\n",
       "    </tr>\n",
       "    <tr>\n",
       "      <th>year</th>\n",
       "      <td>0.061689</td>\n",
       "    </tr>\n",
       "    <tr>\n",
       "      <th>weather_delay</th>\n",
       "      <td>0.051206</td>\n",
       "    </tr>\n",
       "    <tr>\n",
       "      <th>security_delay</th>\n",
       "      <td>0.017367</td>\n",
       "    </tr>\n",
       "    <tr>\n",
       "      <th>carrier_name_SkyWest Airlines Inc.</th>\n",
       "      <td>0.009766</td>\n",
       "    </tr>\n",
       "    <tr>\n",
       "      <th>carrier_name_Delta Air Lines Inc.</th>\n",
       "      <td>0.009219</td>\n",
       "    </tr>\n",
       "    <tr>\n",
       "      <th>carrier_DL</th>\n",
       "      <td>0.008766</td>\n",
       "    </tr>\n",
       "    <tr>\n",
       "      <th>carrier_OO</th>\n",
       "      <td>0.008718</td>\n",
       "    </tr>\n",
       "    <tr>\n",
       "      <th>carrier_AA</th>\n",
       "      <td>0.008211</td>\n",
       "    </tr>\n",
       "    <tr>\n",
       "      <th>carrier_name_American Airlines Inc.</th>\n",
       "      <td>0.007867</td>\n",
       "    </tr>\n",
       "    <tr>\n",
       "      <th>carrier_MQ</th>\n",
       "      <td>0.007299</td>\n",
       "    </tr>\n",
       "    <tr>\n",
       "      <th>carrier_EV</th>\n",
       "      <td>0.007226</td>\n",
       "    </tr>\n",
       "    <tr>\n",
       "      <th>carrier_name_United Air Lines Inc.</th>\n",
       "      <td>0.006937</td>\n",
       "    </tr>\n",
       "    <tr>\n",
       "      <th>carrier_name_Envoy Air</th>\n",
       "      <td>0.006689</td>\n",
       "    </tr>\n",
       "    <tr>\n",
       "      <th>carrier_name_ExpressJet Airlines Inc.</th>\n",
       "      <td>0.006674</td>\n",
       "    </tr>\n",
       "    <tr>\n",
       "      <th>carrier_UA</th>\n",
       "      <td>0.006621</td>\n",
       "    </tr>\n",
       "    <tr>\n",
       "      <th>carrier_WN</th>\n",
       "      <td>0.006554</td>\n",
       "    </tr>\n",
       "  </tbody>\n",
       "</table>\n",
       "</div>"
      ],
      "text/plain": [
       "                                       col_name\n",
       "carrier_delay                          0.083809\n",
       "nas_delay                              0.075658\n",
       "late_aircraft_delay                    0.072792\n",
       "month                                  0.063806\n",
       "year                                   0.061689\n",
       "weather_delay                          0.051206\n",
       "security_delay                         0.017367\n",
       "carrier_name_SkyWest Airlines Inc.     0.009766\n",
       "carrier_name_Delta Air Lines Inc.      0.009219\n",
       "carrier_DL                             0.008766\n",
       "carrier_OO                             0.008718\n",
       "carrier_AA                             0.008211\n",
       "carrier_name_American Airlines Inc.    0.007867\n",
       "carrier_MQ                             0.007299\n",
       "carrier_EV                             0.007226\n",
       "carrier_name_United Air Lines Inc.     0.006937\n",
       "carrier_name_Envoy Air                 0.006689\n",
       "carrier_name_ExpressJet Airlines Inc.  0.006674\n",
       "carrier_UA                             0.006621\n",
       "carrier_WN                             0.006554"
      ]
     },
     "execution_count": 7,
     "metadata": {},
     "output_type": "execute_result"
    }
   ],
   "source": [
    "results = pd.DataFrame({'col_name': rf.feature_importances_}, index=x.columns).sort_values(by='col_name', ascending=False)\n",
    "results.head(20)"
   ]
  },
  {
   "cell_type": "markdown",
   "id": "74a2d64e-5071-4cba-8cb0-24dd3cece28f",
   "metadata": {},
   "source": [
    "From our results, we can see the most important features of note were carrier delay, or delay related to carrier scheduling. The most important feature was arr_del15, which is flights that were delayed by over 15 minutes, which can be ignored in this context. The most important relevant features were in fact the carrier delay alongside delay due to the National Airspace System, which is a governmental system in the United States to govern airspace usage and timing. This means the majority of delays can be attributed to delays due to the carrier sticking to NAS limitations, which is likely due to schedule conflicts with other flights, weather, and much less commonly, issues of national emergency or security. As a result, it would improve this model to focus solely on resources such as weather, security, and maintenance specifically, which would not only improve accuracy but also improve our understanding of what causes delays."
   ]
  },
  {
   "cell_type": "code",
   "execution_count": 22,
   "id": "aa235f8d-3f30-4955-b1a2-579cdd33802e",
   "metadata": {},
   "outputs": [
    {
     "data": {
      "text/plain": [
       "2764.9041983439633"
      ]
     },
     "execution_count": 22,
     "metadata": {},
     "output_type": "execute_result"
    }
   ],
   "source": [
    "from sklearn import metrics\n",
    "\n",
    "y_test.mean()"
   ]
  },
  {
   "cell_type": "code",
   "execution_count": 23,
   "id": "c559472f-ea89-45af-a624-d91dabcb471f",
   "metadata": {},
   "outputs": [
    {
     "data": {
      "text/plain": [
       "2311.8532888505424"
      ]
     },
     "execution_count": 23,
     "metadata": {},
     "output_type": "execute_result"
    }
   ],
   "source": [
    "rmError = np.sqrt(metrics.mean_squared_error(y_test, y_pred))\n",
    "rmError"
   ]
  },
  {
   "cell_type": "code",
   "execution_count": 28,
   "id": "e34364c1-4c08-4dc3-aed4-b913248092c6",
   "metadata": {},
   "outputs": [
    {
     "name": "stdout",
     "output_type": "stream",
     "text": [
      "              precision    recall  f1-score   support\n",
      "\n",
      "           0       0.61      1.00      0.76      6652\n",
      "           1       0.04      0.03      0.04       283\n",
      "           2       0.03      0.02      0.02       250\n",
      "           3       0.02      0.03      0.02       258\n",
      "           4       0.02      0.01      0.02       227\n",
      "           5       0.05      0.04      0.05       197\n",
      "           6       0.02      0.02      0.02       189\n",
      "           7       0.02      0.01      0.01       157\n"
     ]
    }
   ],
   "source": [
    "from sklearn.metrics import classification_report\n",
    "def limited_print(data, max_lines):\n",
    "    for i, line in enumerate(str(data).splitlines()):\n",
    "        if i < max_lines:\n",
    "            print(line)\n",
    "        else:\n",
    "            break\n",
    "\n",
    "limited_print(classification_report(y_test, y_pred), 10)\n"
   ]
  }
 ],
 "metadata": {
  "kernelspec": {
   "display_name": "Python 3 (ipykernel)",
   "language": "python",
   "name": "python3"
  },
  "language_info": {
   "codemirror_mode": {
    "name": "ipython",
    "version": 3
   },
   "file_extension": ".py",
   "mimetype": "text/x-python",
   "name": "python",
   "nbconvert_exporter": "python",
   "pygments_lexer": "ipython3",
   "version": "3.12.0"
  }
 },
 "nbformat": 4,
 "nbformat_minor": 5
}
