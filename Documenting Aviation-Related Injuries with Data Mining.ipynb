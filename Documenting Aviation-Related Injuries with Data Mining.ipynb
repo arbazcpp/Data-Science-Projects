{
 "cells": [
  {
   "cell_type": "markdown",
   "id": "5911b2a9-70a9-4600-b3ec-60af5305e109",
   "metadata": {},
   "source": [
    "# DSC 550 Final Project\n",
    "## Arbaz Khan"
   ]
  },
  {
   "cell_type": "code",
   "execution_count": 86,
   "id": "2b7c58c3-cf24-4528-8714-e4de155024cd",
   "metadata": {
    "collapsed": true,
    "jupyter": {
     "outputs_hidden": true
    }
   },
   "outputs": [
    {
     "name": "stderr",
     "output_type": "stream",
     "text": [
      "C:\\Users\\Arbaz\\AppData\\Local\\Temp\\ipykernel_8328\\26110008.py:25: FutureWarning: A value is trying to be set on a copy of a DataFrame or Series through chained assignment using an inplace method.\n",
      "The behavior will change in pandas 3.0. This inplace method will never work because the intermediate object on which we are setting values always behaves as a copy.\n",
      "\n",
      "For example, when doing 'df[col].method(value, inplace=True)', try using 'df.method({col: value}, inplace=True)' or df[col] = df[col].method(value) instead, to perform the operation inplace on the original object.\n",
      "\n",
      "\n",
      "  aviationData[\"Weather.Condition\"].mask(aviationData[\"Weather.Condition\"] == \"Unk\", \"UNK\", inplace=True)\n",
      "C:\\Users\\Arbaz\\AppData\\Local\\Temp\\ipykernel_8328\\26110008.py:32: FutureWarning: A value is trying to be set on a copy of a DataFrame or Series through chained assignment using an inplace method.\n",
      "The behavior will change in pandas 3.0. This inplace method will never work because the intermediate object on which we are setting values always behaves as a copy.\n",
      "\n",
      "For example, when doing 'df[col].method(value, inplace=True)', try using 'df.method({col: value}, inplace=True)' or df[col] = df[col].method(value) instead, to perform the operation inplace on the original object.\n",
      "\n",
      "\n",
      "  aviationData[\"Broad.phase.of.flight\"].mask(aviationData[\"Broad.phase.of.flight\"] == \"Taxi\", \"1\", inplace=True)\n",
      "C:\\Users\\Arbaz\\AppData\\Local\\Temp\\ipykernel_8328\\26110008.py:33: FutureWarning: A value is trying to be set on a copy of a DataFrame or Series through chained assignment using an inplace method.\n",
      "The behavior will change in pandas 3.0. This inplace method will never work because the intermediate object on which we are setting values always behaves as a copy.\n",
      "\n",
      "For example, when doing 'df[col].method(value, inplace=True)', try using 'df.method({col: value}, inplace=True)' or df[col] = df[col].method(value) instead, to perform the operation inplace on the original object.\n",
      "\n",
      "\n",
      "  aviationData[\"Broad.phase.of.flight\"].mask(aviationData[\"Broad.phase.of.flight\"] == \"Climb\", \"2\", inplace=True)\n",
      "C:\\Users\\Arbaz\\AppData\\Local\\Temp\\ipykernel_8328\\26110008.py:34: FutureWarning: A value is trying to be set on a copy of a DataFrame or Series through chained assignment using an inplace method.\n",
      "The behavior will change in pandas 3.0. This inplace method will never work because the intermediate object on which we are setting values always behaves as a copy.\n",
      "\n",
      "For example, when doing 'df[col].method(value, inplace=True)', try using 'df.method({col: value}, inplace=True)' or df[col] = df[col].method(value) instead, to perform the operation inplace on the original object.\n",
      "\n",
      "\n",
      "  aviationData[\"Broad.phase.of.flight\"].mask(aviationData[\"Broad.phase.of.flight\"] == \"Takeoff\", \"2\", inplace=True)\n",
      "C:\\Users\\Arbaz\\AppData\\Local\\Temp\\ipykernel_8328\\26110008.py:35: FutureWarning: A value is trying to be set on a copy of a DataFrame or Series through chained assignment using an inplace method.\n",
      "The behavior will change in pandas 3.0. This inplace method will never work because the intermediate object on which we are setting values always behaves as a copy.\n",
      "\n",
      "For example, when doing 'df[col].method(value, inplace=True)', try using 'df.method({col: value}, inplace=True)' or df[col] = df[col].method(value) instead, to perform the operation inplace on the original object.\n",
      "\n",
      "\n",
      "  aviationData[\"Broad.phase.of.flight\"].mask(aviationData[\"Broad.phase.of.flight\"] == \"Cruise\", \"3\", inplace=True)\n",
      "C:\\Users\\Arbaz\\AppData\\Local\\Temp\\ipykernel_8328\\26110008.py:36: FutureWarning: A value is trying to be set on a copy of a DataFrame or Series through chained assignment using an inplace method.\n",
      "The behavior will change in pandas 3.0. This inplace method will never work because the intermediate object on which we are setting values always behaves as a copy.\n",
      "\n",
      "For example, when doing 'df[col].method(value, inplace=True)', try using 'df.method({col: value}, inplace=True)' or df[col] = df[col].method(value) instead, to perform the operation inplace on the original object.\n",
      "\n",
      "\n",
      "  aviationData[\"Broad.phase.of.flight\"].mask(aviationData[\"Broad.phase.of.flight\"] == \"Maneuvering\", \"3\", inplace=True)\n",
      "C:\\Users\\Arbaz\\AppData\\Local\\Temp\\ipykernel_8328\\26110008.py:37: FutureWarning: A value is trying to be set on a copy of a DataFrame or Series through chained assignment using an inplace method.\n",
      "The behavior will change in pandas 3.0. This inplace method will never work because the intermediate object on which we are setting values always behaves as a copy.\n",
      "\n",
      "For example, when doing 'df[col].method(value, inplace=True)', try using 'df.method({col: value}, inplace=True)' or df[col] = df[col].method(value) instead, to perform the operation inplace on the original object.\n",
      "\n",
      "\n",
      "  aviationData[\"Broad.phase.of.flight\"].mask(aviationData[\"Broad.phase.of.flight\"] == \"Approach\", \"4\", inplace=True)\n",
      "C:\\Users\\Arbaz\\AppData\\Local\\Temp\\ipykernel_8328\\26110008.py:38: FutureWarning: A value is trying to be set on a copy of a DataFrame or Series through chained assignment using an inplace method.\n",
      "The behavior will change in pandas 3.0. This inplace method will never work because the intermediate object on which we are setting values always behaves as a copy.\n",
      "\n",
      "For example, when doing 'df[col].method(value, inplace=True)', try using 'df.method({col: value}, inplace=True)' or df[col] = df[col].method(value) instead, to perform the operation inplace on the original object.\n",
      "\n",
      "\n",
      "  aviationData[\"Broad.phase.of.flight\"].mask(aviationData[\"Broad.phase.of.flight\"] == \"Descent\", \"5\", inplace=True)\n",
      "C:\\Users\\Arbaz\\AppData\\Local\\Temp\\ipykernel_8328\\26110008.py:39: FutureWarning: A value is trying to be set on a copy of a DataFrame or Series through chained assignment using an inplace method.\n",
      "The behavior will change in pandas 3.0. This inplace method will never work because the intermediate object on which we are setting values always behaves as a copy.\n",
      "\n",
      "For example, when doing 'df[col].method(value, inplace=True)', try using 'df.method({col: value}, inplace=True)' or df[col] = df[col].method(value) instead, to perform the operation inplace on the original object.\n",
      "\n",
      "\n",
      "  aviationData[\"Broad.phase.of.flight\"].mask(aviationData[\"Broad.phase.of.flight\"] == \"Go-around\", \"6\", inplace=True)\n",
      "C:\\Users\\Arbaz\\AppData\\Local\\Temp\\ipykernel_8328\\26110008.py:40: FutureWarning: A value is trying to be set on a copy of a DataFrame or Series through chained assignment using an inplace method.\n",
      "The behavior will change in pandas 3.0. This inplace method will never work because the intermediate object on which we are setting values always behaves as a copy.\n",
      "\n",
      "For example, when doing 'df[col].method(value, inplace=True)', try using 'df.method({col: value}, inplace=True)' or df[col] = df[col].method(value) instead, to perform the operation inplace on the original object.\n",
      "\n",
      "\n",
      "  aviationData[\"Broad.phase.of.flight\"].mask(aviationData[\"Broad.phase.of.flight\"] == \"Landing\", \"7\", inplace=True)\n",
      "C:\\Users\\Arbaz\\AppData\\Local\\Temp\\ipykernel_8328\\26110008.py:41: FutureWarning: A value is trying to be set on a copy of a DataFrame or Series through chained assignment using an inplace method.\n",
      "The behavior will change in pandas 3.0. This inplace method will never work because the intermediate object on which we are setting values always behaves as a copy.\n",
      "\n",
      "For example, when doing 'df[col].method(value, inplace=True)', try using 'df.method({col: value}, inplace=True)' or df[col] = df[col].method(value) instead, to perform the operation inplace on the original object.\n",
      "\n",
      "\n",
      "  aviationData[\"Broad.phase.of.flight\"].mask(aviationData[\"Broad.phase.of.flight\"] == \"Other\", \"Unknown\", inplace=True)\n",
      "C:\\Users\\Arbaz\\AppData\\Local\\Temp\\ipykernel_8328\\26110008.py:42: FutureWarning: A value is trying to be set on a copy of a DataFrame or Series through chained assignment using an inplace method.\n",
      "The behavior will change in pandas 3.0. This inplace method will never work because the intermediate object on which we are setting values always behaves as a copy.\n",
      "\n",
      "For example, when doing 'df[col].method(value, inplace=True)', try using 'df.method({col: value}, inplace=True)' or df[col] = df[col].method(value) instead, to perform the operation inplace on the original object.\n",
      "\n",
      "\n",
      "  aviationData[\"Broad.phase.of.flight\"].mask(aviationData[\"Broad.phase.of.flight\"] == \"Unknown\", \"0\", inplace=True)\n",
      "C:\\Users\\Arbaz\\AppData\\Local\\Temp\\ipykernel_8328\\26110008.py:49: FutureWarning: A value is trying to be set on a copy of a DataFrame or Series through chained assignment using an inplace method.\n",
      "The behavior will change in pandas 3.0. This inplace method will never work because the intermediate object on which we are setting values always behaves as a copy.\n",
      "\n",
      "For example, when doing 'df[col].method(value, inplace=True)', try using 'df.method({col: value}, inplace=True)' or df[col] = df[col].method(value) instead, to perform the operation inplace on the original object.\n",
      "\n",
      "\n",
      "  aviationData[\"Broad.phase.of.flight\"].fillna(3, inplace = True)\n"
     ]
    }
   ],
   "source": [
    "import numpy as np\n",
    "import pandas as pd\n",
    "\n",
    "aviationData = pd.read_csv(\"AviationData.csv\", encoding_errors='ignore', low_memory=False)\n",
    "\n",
    "# Change the date and time column to the datetype data type\n",
    "# This will allow for more easily displaying dates\n",
    "aviationData[\"Event.Date\"] = pd.to_datetime(aviationData[\"Event.Date\"], utc = True)\n",
    "\n",
    "# Create a column specifically for the year of the accident\n",
    "aviationData['Year'] = pd.DatetimeIndex(aviationData['Event.Date']).year\n",
    "\n",
    "# Change from datetime to integer type\n",
    "aviationData['Year'] = aviationData['Year'].astype(int)\n",
    "\n",
    "# Clean data for null values\n",
    "aviationData[\"Total.Fatal.Injuries\"] = aviationData[\"Total.Fatal.Injuries\"].fillna(0)\n",
    "aviationData[\"Total.Uninjured\"] = aviationData[\"Total.Uninjured\"].fillna(0)\n",
    "\n",
    "# Don't need this column, meaningless ID\n",
    "aviationData.drop(columns='Event.Id', inplace=True)\n",
    "\n",
    "# Make unknown values in table have consistent value\n",
    "# (replace 'Unk' with 'UNK')\n",
    "aviationData[\"Weather.Condition\"].mask(aviationData[\"Weather.Condition\"] == \"Unk\", \"UNK\", inplace=True)\n",
    "\n",
    "aviationData['dates'] = aviationData['Event.Date']\n",
    "\n",
    "# Ignore unknown phases for this column\n",
    "phaseVals = [\"0\", \"1\",\"2\", \"3\", \"3\", \"4\", \"5\", \"6\", \"7\"]\n",
    "\n",
    "aviationData[\"Broad.phase.of.flight\"].mask(aviationData[\"Broad.phase.of.flight\"] == \"Taxi\", \"1\", inplace=True)\n",
    "aviationData[\"Broad.phase.of.flight\"].mask(aviationData[\"Broad.phase.of.flight\"] == \"Climb\", \"2\", inplace=True)\n",
    "aviationData[\"Broad.phase.of.flight\"].mask(aviationData[\"Broad.phase.of.flight\"] == \"Takeoff\", \"2\", inplace=True)\n",
    "aviationData[\"Broad.phase.of.flight\"].mask(aviationData[\"Broad.phase.of.flight\"] == \"Cruise\", \"3\", inplace=True)\n",
    "aviationData[\"Broad.phase.of.flight\"].mask(aviationData[\"Broad.phase.of.flight\"] == \"Maneuvering\", \"3\", inplace=True)\n",
    "aviationData[\"Broad.phase.of.flight\"].mask(aviationData[\"Broad.phase.of.flight\"] == \"Approach\", \"4\", inplace=True)\n",
    "aviationData[\"Broad.phase.of.flight\"].mask(aviationData[\"Broad.phase.of.flight\"] == \"Descent\", \"5\", inplace=True)\n",
    "aviationData[\"Broad.phase.of.flight\"].mask(aviationData[\"Broad.phase.of.flight\"] == \"Go-around\", \"6\", inplace=True)\n",
    "aviationData[\"Broad.phase.of.flight\"].mask(aviationData[\"Broad.phase.of.flight\"] == \"Landing\", \"7\", inplace=True)\n",
    "aviationData[\"Broad.phase.of.flight\"].mask(aviationData[\"Broad.phase.of.flight\"] == \"Other\", \"Unknown\", inplace=True)\n",
    "aviationData[\"Broad.phase.of.flight\"].mask(aviationData[\"Broad.phase.of.flight\"] == \"Unknown\", \"0\", inplace=True)\n",
    "\n",
    "# Remove standing accidents\n",
    "aviationData = aviationData.drop(aviationData[aviationData[\"Broad.phase.of.flight\"] == \"Standing\"].index)\n",
    "\n",
    "######################################\n",
    "# Remove unknown phase accidents\n",
    "aviationData[\"Broad.phase.of.flight\"].fillna(3, inplace = True)\n",
    "#aviationData = aviationData.drop(aviationData[aviationData[\"Broad.phase.of.flight\"].isin(phaseVals) == False].index)\n",
    "aviationData[\"Broad.phase.of.flight\"] = aviationData[\"Broad.phase.of.flight\"].astype(int)\n",
    "\n",
    "aviationData[\"Phase\"] = aviationData[\"Broad.phase.of.flight\"]"
   ]
  },
  {
   "cell_type": "markdown",
   "id": "b6dc26d8-5101-4421-af56-20b36fea4611",
   "metadata": {},
   "source": [
    "# Changes made\n",
    "\n",
    "The changes made to the data were largely to make dislaying the data more easy by changing the datatype to 'datetime'. In addition, values for the weather condition were inconsistent, and made to more consistently be either 'NaN', 'UNK', or 'IMC'/'VMC'. \n",
    "\n",
    "For my topic, there are many legal guidelines to all aspects of aviation. All of the data from these commercial flights has been made public, and does not include unnecessary personal information such as about the passengers. The data was mostly taken from the public data about the flights as well as data that could have been retrieved from the airplane's black boxes post incident, alongisde public weather station reports. In terms of ethical implications, the biggest concern might be that performing this kind of analysis is risky since it is very hard to accurately deduce the cause of a crash from the data alone, and that we could be making the wrong conclusions about aviation safety and influence changes in the system negatively. "
   ]
  },
  {
   "cell_type": "code",
   "execution_count": 87,
   "id": "8fc0faae-e5f9-4761-b094-d1b33e31c730",
   "metadata": {},
   "outputs": [
    {
     "data": {
      "text/html": [
       "<div>\n",
       "<style scoped>\n",
       "    .dataframe tbody tr th:only-of-type {\n",
       "        vertical-align: middle;\n",
       "    }\n",
       "\n",
       "    .dataframe tbody tr th {\n",
       "        vertical-align: top;\n",
       "    }\n",
       "\n",
       "    .dataframe thead th {\n",
       "        text-align: right;\n",
       "    }\n",
       "</style>\n",
       "<table border=\"1\" class=\"dataframe\">\n",
       "  <thead>\n",
       "    <tr style=\"text-align: right;\">\n",
       "      <th></th>\n",
       "      <th>date</th>\n",
       "      <th>description</th>\n",
       "    </tr>\n",
       "  </thead>\n",
       "  <tbody>\n",
       "    <tr>\n",
       "      <th>0</th>\n",
       "      <td>July 21 1919</td>\n",
       "      <td>The Goodyear dirigible Wingfoot Air Express c...</td>\n",
       "    </tr>\n",
       "    <tr>\n",
       "      <th>1</th>\n",
       "      <td>August 2 1919</td>\n",
       "      <td>A Caproni Ca.48 crashed at Verona, Italy, dur...</td>\n",
       "    </tr>\n",
       "    <tr>\n",
       "      <th>2</th>\n",
       "      <td>December 14 1920</td>\n",
       "      <td>A Handley Page O/400 hit a tree and crashed a...</td>\n",
       "    </tr>\n",
       "    <tr>\n",
       "      <th>3</th>\n",
       "      <td>March 31 1922</td>\n",
       "      <td>A Beijing-Han Airlines Handley Page O/7 hit t...</td>\n",
       "    </tr>\n",
       "    <tr>\n",
       "      <th>4</th>\n",
       "      <td>April 7 1922</td>\n",
       "      <td>In the Picardie mid-air collision, a De Havil...</td>\n",
       "    </tr>\n",
       "    <tr>\n",
       "      <th>5</th>\n",
       "      <td>January 13 1923</td>\n",
       "      <td>An Aeromarine 75 seaplane of Aeromarine West ...</td>\n",
       "    </tr>\n",
       "    <tr>\n",
       "      <th>6</th>\n",
       "      <td>May 14 1923</td>\n",
       "      <td>An Air Union Farman F.60 Goliath crashed near...</td>\n",
       "    </tr>\n",
       "    <tr>\n",
       "      <th>7</th>\n",
       "      <td>August 27 1923</td>\n",
       "      <td>An Air Union Farman F.60 Goliath crashed near...</td>\n",
       "    </tr>\n",
       "    <tr>\n",
       "      <th>8</th>\n",
       "      <td>September 14 1923</td>\n",
       "      <td>A Daimler Airway de Havilland DH.34 crashed a...</td>\n",
       "    </tr>\n",
       "    <tr>\n",
       "      <th>9</th>\n",
       "      <td>December 24 1924</td>\n",
       "      <td>An Imperial Airways de Havilland DH.34 crashe...</td>\n",
       "    </tr>\n",
       "  </tbody>\n",
       "</table>\n",
       "</div>"
      ],
      "text/plain": [
       "                date                                        description\n",
       "0       July 21 1919   The Goodyear dirigible Wingfoot Air Express c...\n",
       "1      August 2 1919   A Caproni Ca.48 crashed at Verona, Italy, dur...\n",
       "2   December 14 1920   A Handley Page O/400 hit a tree and crashed a...\n",
       "3      March 31 1922   A Beijing-Han Airlines Handley Page O/7 hit t...\n",
       "4       April 7 1922   In the Picardie mid-air collision, a De Havil...\n",
       "5    January 13 1923   An Aeromarine 75 seaplane of Aeromarine West ...\n",
       "6        May 14 1923   An Air Union Farman F.60 Goliath crashed near...\n",
       "7     August 27 1923   An Air Union Farman F.60 Goliath crashed near...\n",
       "8  September 14 1923   A Daimler Airway de Havilland DH.34 crashed a...\n",
       "9   December 24 1924   An Imperial Airways de Havilland DH.34 crashe..."
      ]
     },
     "execution_count": 87,
     "metadata": {},
     "output_type": "execute_result"
    }
   ],
   "source": [
    "# Project Milestone 3\n",
    "# Scrapes HTML from Wikipedia page listing accidents and descriptions.\n",
    "# Records index, date, and a description for the event, with proper formatting\n",
    "# Goal is to use this data with a NL algorithm to make some conclusions about \n",
    "# aviation safety.\n",
    "\n",
    "from bs4 import BeautifulSoup\n",
    "\n",
    "# Using https://en.wikipedia.org/wiki/List_of_accidents_and_incidents_involving_commercial_aircraft\n",
    "fd = open('accidents.html', 'r', encoding='utf-8')\n",
    "\n",
    "# Read webpage in as beautiful soup object\n",
    "soup = BeautifulSoup(fd)\n",
    "fd.close()\n",
    "\n",
    "# Find bullet points in webpage\n",
    "div = soup.find(\"div\", class_=\"mw-content-ltr mw-parser-output\")\n",
    "\n",
    "df = pd.DataFrame({\"date\":[], \"description\":[]})\n",
    "i = 0\n",
    "\n",
    "year = 1919\n",
    "\n",
    "# Find each h3 tag in body as well as ul tag\n",
    "# h3 tag contains year, ul contains list items with description\n",
    "for hl in div.find_all(['h3', 'ul']):\n",
    "\n",
    "    # If it is an h3 tag, it is the year for all of the \n",
    "    # 'li' elements in the following 'ul' tag\n",
    "    if hl.name == 'h3':\n",
    "        year = hl.getText()\n",
    "\n",
    "    # Otherwise, it is a 'ul' tag, with 'li' items containing\n",
    "    # text description for the event\n",
    "    else:\n",
    "        for bullet in hl.findAll('li'):\n",
    "            try:\n",
    "                # First transformation step is to split the value in each \n",
    "                # bullet by the dash, to separate date as well as description\n",
    "                date, info = bullet.getText().split('–') \n",
    "                date += year\n",
    "            except ValueError:\n",
    "                i += 1\n",
    "            else:    \n",
    "                df.loc[i] = [date, info]\n",
    "                i +=1\n",
    "\n",
    "# Drop the last 20 values, which is extra elements after the \n",
    "# data used to format the webpage\n",
    "df.drop(df.tail(20).index, inplace = True)\n",
    "\n",
    "df.head(10)"
   ]
  },
  {
   "cell_type": "code",
   "execution_count": 88,
   "id": "b69c3990-2693-4ac1-9885-416247b534a0",
   "metadata": {},
   "outputs": [],
   "source": [
    "# drop any null values for description\n",
    "df.dropna(subset = ['description'], inplace = True)\n",
    "\n",
    "# Drop duplicates\n",
    "df.drop_duplicates(inplace =  True)\n",
    "\n",
    "# Convert dates to pandas datetime format\n",
    "df['dates'] = pd.to_datetime(df['date'], format='%B %d %Y', utc = True)\n",
    "\n"
   ]
  },
  {
   "cell_type": "markdown",
   "id": "a958a513-8dd4-44a8-9007-94c6cbf245fb",
   "metadata": {},
   "source": [
    "## Ethical Implications of this Data\n",
    "\n",
    "    In terms of ethical concerns, since this data is gathered from public NTSB sources and does not divulge personal passenger information, there are only some small concerns related to the handling of this data. The largest one is that utilizing an NL algorithm, or any sort of software to analyze text descriptions, can result in incorrect assumptions or conclusions being drawn. This topic has a number of legal regulations regarding aviation safety, and it is foreseeable that the larger aviation authority would not approve of any frivolous conclusions garnering attention in the media. To circumvent this, concrete conclusions cannot be drawn from such analysis without some kind of rigorous data or alternative sources that can confirm these conclusions."
   ]
  },
  {
   "cell_type": "code",
   "execution_count": 89,
   "id": "3d2bcc23-fefa-4152-9b5f-85b992d10873",
   "metadata": {},
   "outputs": [],
   "source": [
    "import urllib.request\n",
    "import urllib.parse\n",
    "import urllib.error\n",
    "import requests\n",
    "import json\n",
    "import os\n",
    "\n",
    "url = \"https://data.ntsb.gov/data.json\"  \n",
    "\n",
    "response = requests.get(url)\n",
    "\n",
    "data = response.json()  \n",
    "\n",
    "\n",
    "link = data['dataset'][0]['distribution'][4]['downloadURL']\n"
   ]
  },
  {
   "cell_type": "code",
   "execution_count": 90,
   "id": "b41d697e-5011-4e10-bd49-061c7b33c8ea",
   "metadata": {},
   "outputs": [
    {
     "name": "stderr",
     "output_type": "stream",
     "text": [
      "C:\\Users\\Arbaz\\AppData\\Local\\Temp\\ipykernel_8328\\3131935044.py:10: FutureWarning: Passing bytes to 'read_excel' is deprecated and will be removed in a future version. To read from a byte string, wrap it in a `BytesIO` object.\n",
      "  xl = pd.ExcelFile(socket)\n"
     ]
    }
   ],
   "source": [
    "import urllib.request\n",
    "from urllib.request import urlopen\n",
    "\n",
    "req = urllib.request.Request(link)\n",
    "req.add_header('User-Agent', 'Mozilla/5.0 (Windows NT 10.0; Win64; x64; rv:106.0) Gecko/20100101 Firefox/106.0')\n",
    "req.add_header('Accept', 'text/html,application/xhtml+xml,application/xml;q=0.9,image/avif,image/webp,*/*;q=0.8')\n",
    "req.add_header('Accept-Language', 'en-US,en;q=0.5')\n",
    "\n",
    "socket = urllib.request.urlopen(req).read()\n",
    "xl = pd.ExcelFile(socket)"
   ]
  },
  {
   "cell_type": "code",
   "execution_count": 91,
   "id": "b8182664-74e3-4b4c-96c8-fab02921b642",
   "metadata": {},
   "outputs": [],
   "source": [
    "df3 = pd.read_excel(xl, sheet_name='Data_GA')\n",
    "df3.columns = df3.iloc[0]\n",
    "\n",
    "df3.drop(0, inplace = True)\n",
    "df3['AccidentDate'] = pd.to_datetime(df3['AccidentDate'], utc = True)\n",
    "\n",
    "df3['dates'] = df3['AccidentDate']"
   ]
  },
  {
   "cell_type": "markdown",
   "id": "8a1717cb-ae58-43ec-b4b7-95aac9f548f9",
   "metadata": {},
   "source": [
    "# Merging Datasets"
   ]
  },
  {
   "cell_type": "code",
   "execution_count": 92,
   "id": "70d2c54b-1eaa-4414-8a59-7c71548ec5d7",
   "metadata": {},
   "outputs": [],
   "source": [
    "merged = pd.merge(aviationData, df3, how = 'outer', on = 'dates')"
   ]
  },
  {
   "cell_type": "code",
   "execution_count": 93,
   "id": "6fe7a9e4-9efa-4b57-98f1-9d5b3bf90298",
   "metadata": {},
   "outputs": [
    {
     "data": {
      "text/html": [
       "<div>\n",
       "<style scoped>\n",
       "    .dataframe tbody tr th:only-of-type {\n",
       "        vertical-align: middle;\n",
       "    }\n",
       "\n",
       "    .dataframe tbody tr th {\n",
       "        vertical-align: top;\n",
       "    }\n",
       "\n",
       "    .dataframe thead th {\n",
       "        text-align: right;\n",
       "    }\n",
       "</style>\n",
       "<table border=\"1\" class=\"dataframe\">\n",
       "  <thead>\n",
       "    <tr style=\"text-align: right;\">\n",
       "      <th></th>\n",
       "      <th>date</th>\n",
       "      <th>description</th>\n",
       "      <th>dates</th>\n",
       "      <th>Investigation.Type</th>\n",
       "      <th>Accident.Number</th>\n",
       "      <th>Event.Date</th>\n",
       "      <th>Location</th>\n",
       "      <th>Country_x</th>\n",
       "      <th>Latitude_x</th>\n",
       "      <th>Longitude_x</th>\n",
       "      <th>...</th>\n",
       "      <th>DamageLevel</th>\n",
       "      <th>AircraftCategory</th>\n",
       "      <th>RegulationFlightConductedUnder</th>\n",
       "      <th>FlightScheduledType</th>\n",
       "      <th>FlightTerminalType</th>\n",
       "      <th>FlightServiceType</th>\n",
       "      <th>FlightOperationType</th>\n",
       "      <th>DefiningEvent</th>\n",
       "      <th>PhaseOfFlight</th>\n",
       "      <th>IntentionalAct</th>\n",
       "    </tr>\n",
       "  </thead>\n",
       "  <tbody>\n",
       "    <tr>\n",
       "      <th>0</th>\n",
       "      <td>July 21 1919</td>\n",
       "      <td>The Goodyear dirigible Wingfoot Air Express c...</td>\n",
       "      <td>1919-07-21 00:00:00+00:00</td>\n",
       "      <td>NaN</td>\n",
       "      <td>NaN</td>\n",
       "      <td>NaT</td>\n",
       "      <td>NaN</td>\n",
       "      <td>NaN</td>\n",
       "      <td>NaN</td>\n",
       "      <td>NaN</td>\n",
       "      <td>...</td>\n",
       "      <td>NaN</td>\n",
       "      <td>NaN</td>\n",
       "      <td>NaN</td>\n",
       "      <td>NaN</td>\n",
       "      <td>NaN</td>\n",
       "      <td>NaN</td>\n",
       "      <td>NaN</td>\n",
       "      <td>NaN</td>\n",
       "      <td>NaN</td>\n",
       "      <td>NaN</td>\n",
       "    </tr>\n",
       "    <tr>\n",
       "      <th>1</th>\n",
       "      <td>August 2 1919</td>\n",
       "      <td>A Caproni Ca.48 crashed at Verona, Italy, dur...</td>\n",
       "      <td>1919-08-02 00:00:00+00:00</td>\n",
       "      <td>NaN</td>\n",
       "      <td>NaN</td>\n",
       "      <td>NaT</td>\n",
       "      <td>NaN</td>\n",
       "      <td>NaN</td>\n",
       "      <td>NaN</td>\n",
       "      <td>NaN</td>\n",
       "      <td>...</td>\n",
       "      <td>NaN</td>\n",
       "      <td>NaN</td>\n",
       "      <td>NaN</td>\n",
       "      <td>NaN</td>\n",
       "      <td>NaN</td>\n",
       "      <td>NaN</td>\n",
       "      <td>NaN</td>\n",
       "      <td>NaN</td>\n",
       "      <td>NaN</td>\n",
       "      <td>NaN</td>\n",
       "    </tr>\n",
       "    <tr>\n",
       "      <th>2</th>\n",
       "      <td>December 14 1920</td>\n",
       "      <td>A Handley Page O/400 hit a tree and crashed a...</td>\n",
       "      <td>1920-12-14 00:00:00+00:00</td>\n",
       "      <td>NaN</td>\n",
       "      <td>NaN</td>\n",
       "      <td>NaT</td>\n",
       "      <td>NaN</td>\n",
       "      <td>NaN</td>\n",
       "      <td>NaN</td>\n",
       "      <td>NaN</td>\n",
       "      <td>...</td>\n",
       "      <td>NaN</td>\n",
       "      <td>NaN</td>\n",
       "      <td>NaN</td>\n",
       "      <td>NaN</td>\n",
       "      <td>NaN</td>\n",
       "      <td>NaN</td>\n",
       "      <td>NaN</td>\n",
       "      <td>NaN</td>\n",
       "      <td>NaN</td>\n",
       "      <td>NaN</td>\n",
       "    </tr>\n",
       "    <tr>\n",
       "      <th>3</th>\n",
       "      <td>March 31 1922</td>\n",
       "      <td>A Beijing-Han Airlines Handley Page O/7 hit t...</td>\n",
       "      <td>1922-03-31 00:00:00+00:00</td>\n",
       "      <td>NaN</td>\n",
       "      <td>NaN</td>\n",
       "      <td>NaT</td>\n",
       "      <td>NaN</td>\n",
       "      <td>NaN</td>\n",
       "      <td>NaN</td>\n",
       "      <td>NaN</td>\n",
       "      <td>...</td>\n",
       "      <td>NaN</td>\n",
       "      <td>NaN</td>\n",
       "      <td>NaN</td>\n",
       "      <td>NaN</td>\n",
       "      <td>NaN</td>\n",
       "      <td>NaN</td>\n",
       "      <td>NaN</td>\n",
       "      <td>NaN</td>\n",
       "      <td>NaN</td>\n",
       "      <td>NaN</td>\n",
       "    </tr>\n",
       "    <tr>\n",
       "      <th>4</th>\n",
       "      <td>April 7 1922</td>\n",
       "      <td>In the Picardie mid-air collision, a De Havil...</td>\n",
       "      <td>1922-04-07 00:00:00+00:00</td>\n",
       "      <td>NaN</td>\n",
       "      <td>NaN</td>\n",
       "      <td>NaT</td>\n",
       "      <td>NaN</td>\n",
       "      <td>NaN</td>\n",
       "      <td>NaN</td>\n",
       "      <td>NaN</td>\n",
       "      <td>...</td>\n",
       "      <td>NaN</td>\n",
       "      <td>NaN</td>\n",
       "      <td>NaN</td>\n",
       "      <td>NaN</td>\n",
       "      <td>NaN</td>\n",
       "      <td>NaN</td>\n",
       "      <td>NaN</td>\n",
       "      <td>NaN</td>\n",
       "      <td>NaN</td>\n",
       "      <td>NaN</td>\n",
       "    </tr>\n",
       "  </tbody>\n",
       "</table>\n",
       "<p>5 rows × 57 columns</p>\n",
       "</div>"
      ],
      "text/plain": [
       "               date                                        description  \\\n",
       "0      July 21 1919   The Goodyear dirigible Wingfoot Air Express c...   \n",
       "1     August 2 1919   A Caproni Ca.48 crashed at Verona, Italy, dur...   \n",
       "2  December 14 1920   A Handley Page O/400 hit a tree and crashed a...   \n",
       "3     March 31 1922   A Beijing-Han Airlines Handley Page O/7 hit t...   \n",
       "4      April 7 1922   In the Picardie mid-air collision, a De Havil...   \n",
       "\n",
       "                      dates Investigation.Type Accident.Number Event.Date  \\\n",
       "0 1919-07-21 00:00:00+00:00                NaN             NaN        NaT   \n",
       "1 1919-08-02 00:00:00+00:00                NaN             NaN        NaT   \n",
       "2 1920-12-14 00:00:00+00:00                NaN             NaN        NaT   \n",
       "3 1922-03-31 00:00:00+00:00                NaN             NaN        NaT   \n",
       "4 1922-04-07 00:00:00+00:00                NaN             NaN        NaT   \n",
       "\n",
       "  Location Country_x Latitude_x Longitude_x  ... DamageLevel AircraftCategory  \\\n",
       "0      NaN       NaN        NaN         NaN  ...         NaN              NaN   \n",
       "1      NaN       NaN        NaN         NaN  ...         NaN              NaN   \n",
       "2      NaN       NaN        NaN         NaN  ...         NaN              NaN   \n",
       "3      NaN       NaN        NaN         NaN  ...         NaN              NaN   \n",
       "4      NaN       NaN        NaN         NaN  ...         NaN              NaN   \n",
       "\n",
       "  RegulationFlightConductedUnder FlightScheduledType FlightTerminalType  \\\n",
       "0                            NaN                 NaN                NaN   \n",
       "1                            NaN                 NaN                NaN   \n",
       "2                            NaN                 NaN                NaN   \n",
       "3                            NaN                 NaN                NaN   \n",
       "4                            NaN                 NaN                NaN   \n",
       "\n",
       "  FlightServiceType FlightOperationType DefiningEvent PhaseOfFlight  \\\n",
       "0               NaN                 NaN           NaN           NaN   \n",
       "1               NaN                 NaN           NaN           NaN   \n",
       "2               NaN                 NaN           NaN           NaN   \n",
       "3               NaN                 NaN           NaN           NaN   \n",
       "4               NaN                 NaN           NaN           NaN   \n",
       "\n",
       "   IntentionalAct  \n",
       "0             NaN  \n",
       "1             NaN  \n",
       "2             NaN  \n",
       "3             NaN  \n",
       "4             NaN  \n",
       "\n",
       "[5 rows x 57 columns]"
      ]
     },
     "execution_count": 93,
     "metadata": {},
     "output_type": "execute_result"
    }
   ],
   "source": [
    "merged = pd.merge(df, merged, how = 'outer', on = 'dates')\n",
    "merged.head(5)"
   ]
  },
  {
   "cell_type": "code",
   "execution_count": 94,
   "id": "622c036d-63d4-445f-b147-3f46bc2e4996",
   "metadata": {},
   "outputs": [
    {
     "data": {
      "text/plain": [
       "94654"
      ]
     },
     "execution_count": 94,
     "metadata": {},
     "output_type": "execute_result"
    }
   ],
   "source": [
    "import sqlalchemy\n",
    "from sqlalchemy import create_engine\n",
    "engine = create_engine('sqlite://', echo=False)\n",
    "\n",
    "merged.to_sql(name = 'users', con=engine)"
   ]
  },
  {
   "cell_type": "code",
   "execution_count": 101,
   "id": "6d17b97d-4bc6-4756-bbf0-da65ea844561",
   "metadata": {},
   "outputs": [
    {
     "data": {
      "text/plain": [
       "Text(0.5, 1.0, 'Total Minor Injuries From 1980-2023')"
      ]
     },
     "execution_count": 101,
     "metadata": {},
     "output_type": "execute_result"
    },
    {
     "data": {
      "image/png": "[encoded data removed]",
      "text/plain": [
       "<Figure size 640x480 with 1 Axes>"
      ]
     },
     "metadata": {},
     "output_type": "display_data"
    }
   ],
   "source": [
    "import matplotlib.pyplot as plt\n",
    "\n",
    "merged['Year'] = pd.DatetimeIndex(merged['date']).year\n",
    "\n",
    "plt.plot(merged['Year'], merged['Total.Minor.Injuries'])\n",
    "plt.title(\"Total Minor Injuries From 1980-2023\")"
   ]
  },
  {
   "cell_type": "code",
   "execution_count": 102,
   "id": "fd1840f3-1a44-4363-ac83-5503ed1b32db",
   "metadata": {
    "collapsed": true,
    "jupyter": {
     "outputs_hidden": true
    },
    "scrolled": true
   },
   "outputs": [
    {
     "data": {
      "text/plain": [
       "Text(0.5, 1.0, 'Total Serious Injuries From 1980-2023')"
      ]
     },
     "execution_count": 102,
     "metadata": {},
     "output_type": "execute_result"
    },
    {
     "data": {
      "image/png": "[encoded data removed]",
      "text/plain": [
       "<Figure size 640x480 with 1 Axes>"
      ]
     },
     "metadata": {},
     "output_type": "display_data"
    }
   ],
   "source": [
    "plt.plot(merged['Year'], merged['Total.Serious.Injuries'])\n",
    "plt.title(\"Total Serious Injuries From 1980-2023\")"
   ]
  },
  {
   "cell_type": "code",
   "execution_count": 103,
   "id": "faed2842-b9a2-48f1-b772-29e7a5663458",
   "metadata": {},
   "outputs": [
    {
     "data": {
      "text/plain": [
       "Text(0.5, 1.0, 'Total Fatal Injuries From 1980-2023')"
      ]
     },
     "execution_count": 103,
     "metadata": {},
     "output_type": "execute_result"
    },
    {
     "data": {
      "image/png": "[encoded data removed]",
      "text/plain": [
       "<Figure size 640x480 with 1 Axes>"
      ]
     },
     "metadata": {},
     "output_type": "display_data"
    }
   ],
   "source": [
    "plt.plot(merged['Year'], merged['Total.Fatal.Injuries'])\n",
    "plt.title(\"Total Fatal Injuries From 1980-2023\")"
   ]
  },
  {
   "cell_type": "code",
   "execution_count": 104,
   "id": "44e7d593-357b-435d-93de-c196cf30fc6f",
   "metadata": {},
   "outputs": [
    {
     "data": {
      "text/plain": [
       "Text(0.5, 1.0, 'Accident Occurrence For Each Phase Of Flight 1980-2023')"
      ]
     },
     "execution_count": 104,
     "metadata": {},
     "output_type": "execute_result"
    },
    {
     "data": {
      "image/png": "[encoded data removed]",
      "text/plain": [
       "<Figure size 640x480 with 1 Axes>"
      ]
     },
     "metadata": {},
     "output_type": "display_data"
    }
   ],
   "source": [
    "plt.hist(merged['Phase'])\n",
    "plt.title(\"Accident Occurrence For Each Phase Of Flight 1980-2023\")"
   ]
  },
  {
   "cell_type": "code",
   "execution_count": 99,
   "id": "d7116e5e-ed43-48eb-9402-28ac3dc82a50",
   "metadata": {},
   "outputs": [
    {
     "data": {
      "text/plain": [
       "(array([  17.,   34.,   90.,  129.,  229.,  211., 1757., 1448., 1336.,\n",
       "        1057.]),\n",
       " array([1919. , 1929.5, 1940. , 1950.5, 1961. , 1971.5, 1982. , 1992.5,\n",
       "        2003. , 2013.5, 2024. ]),\n",
       " <BarContainer object of 10 artists>)"
      ]
     },
     "execution_count": 99,
     "metadata": {},
     "output_type": "execute_result"
    },
    {
     "data": {
      "image/png": "[encoded data removed]",
      "text/plain": [
       "<Figure size 640x480 with 1 Axes>"
      ]
     },
     "metadata": {},
     "output_type": "display_data"
    }
   ],
   "source": [
    "plt.hist(merged['Year'])"
   ]
  }
 ],
 "metadata": {
  "kernelspec": {
   "display_name": "Python 3 (ipykernel)",
   "language": "python",
   "name": "python3"
  },
  "language_info": {
   "codemirror_mode": {
    "name": "ipython",
    "version": 3
   },
   "file_extension": ".py",
   "mimetype": "text/x-python",
   "name": "python",
   "nbconvert_exporter": "python",
   "pygments_lexer": "ipython3",
   "version": "3.12.0"
  }
 },
 "nbformat": 4,
 "nbformat_minor": 5
}
